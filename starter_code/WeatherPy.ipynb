{
 "cells": [
  {
   "cell_type": "markdown",
   "metadata": {},
   "source": [
    "# WeatherPy\n",
    "----\n",
    "\n",
    "### Analysis\n",
    "* As expected, the weather becomes significantly warmer as one approaches the equator (0 Deg. Latitude). More interestingly, however, is the fact that the southern hemisphere tends to be warmer this time of year than the northern hemisphere. This may be due to the tilt of the earth.\n",
    "* There is no strong relationship between latitude and cloudiness. However, it is interesting to see that a strong band of cities sits at 0, 80, and 100% cloudiness.\n",
    "* There is no strong relationship between latitude and wind speed. However, in northern hemispheres there is a flurry of cities with over 20 mph of wind.\n",
    "\n",
    "---\n",
    "\n",
    "#### Note\n",
    "* Instructions have been included for each segment. You do not have to follow them exactly, but they are included to help you think through the steps."
   ]
  },
  {
   "cell_type": "code",
   "execution_count": 1,
   "metadata": {
    "scrolled": true
   },
   "outputs": [],
   "source": [
    "# Dependencies and Setup\n",
    "import matplotlib.pyplot as plt\n",
    "import pandas as pd\n",
    "import numpy as np\n",
    "import requests\n",
    "import time\n",
    "\n",
    "# Import API key\n",
    "from api_keys import api_key3\n",
    "\n",
    "# Incorporated citipy to determine city based on latitude and longitude\n",
    "from citipy import citipy\n",
    "\n",
    "# Output File (CSV)\n",
    "output_data_file = \"output_data/cities.csv\"\n",
    "\n",
    "# Range of latitudes and longitudes\n",
    "lat_range = (-90, 90)\n",
    "lng_range = (-180, 180)"
   ]
  },
  {
   "cell_type": "markdown",
   "metadata": {},
   "source": [
    "## Generate Cities List"
   ]
  },
  {
   "cell_type": "code",
   "execution_count": 2,
   "metadata": {},
   "outputs": [
    {
     "data": {
      "text/plain": [
       "627"
      ]
     },
     "execution_count": 2,
     "metadata": {},
     "output_type": "execute_result"
    }
   ],
   "source": [
    "# List for holding lat_lngs and cities\n",
    "lat_lngs = []\n",
    "cities = []\n",
    "\n",
    "# Create a set of random lat and lng combinations\n",
    "lats = np.random.uniform(low=-90.000, high=90.000, size=1500)\n",
    "lngs = np.random.uniform(low=-180.000, high=180.000, size=1500)\n",
    "lat_lngs = zip(lats, lngs)\n",
    "\n",
    "# Identify nearest city for each lat, lng combination\n",
    "for lat_lng in lat_lngs:\n",
    "    city = citipy.nearest_city(lat_lng[0], lat_lng[1]).city_name\n",
    "    \n",
    "    # If the city is unique, then add it to a our cities list\n",
    "    if city not in cities:\n",
    "        cities.append(city)\n",
    "\n",
    "# Print the city count to confirm sufficient count\n",
    "len(cities)"
   ]
  },
  {
   "cell_type": "markdown",
   "metadata": {},
   "source": [
    "### Perform API Calls\n",
    "* Perform a weather check on each city using a series of successive API calls.\n",
    "* Include a print log of each city as it'sbeing processed (with the city number and city name).\n"
   ]
  },
  {
   "cell_type": "code",
   "execution_count": 3,
   "metadata": {},
   "outputs": [],
   "source": [
    "# Request cities\n",
    "city_weather_data_list=[]\n",
    "url=\"http://api.openweathermap.org/data/2.5/weather?\"\n",
    "for city in cities:\n",
    "    queryurl=url + \"appid=\" + api_key3 + \"&q=\" + city + \"&units=imperial\"\n",
    "    city_weather_data=requests.get(queryurl)\n",
    "    city_weather_data_list.append(city_weather_data)\n",
    "\n",
    "#The \"response\" property in articles contains the actual articles\n",
    "# list comprehension."
   ]
  },
  {
   "cell_type": "code",
   "execution_count": 4,
   "metadata": {},
   "outputs": [
    {
     "data": {
      "text/plain": [
       "<Response [200]>"
      ]
     },
     "execution_count": 4,
     "metadata": {},
     "output_type": "execute_result"
    }
   ],
   "source": [
    "city_weather_data_list[0]"
   ]
  },
  {
   "cell_type": "markdown",
   "metadata": {},
   "source": [
    "### Convert Raw Data to DataFrame\n",
    "* Export the city data into a .csv.\n",
    "* Display the DataFrame"
   ]
  },
  {
   "cell_type": "code",
   "execution_count": 5,
   "metadata": {},
   "outputs": [],
   "source": [
    "clean_city_weather=[]\n",
    "for city_weather in city_weather_data_list:\n",
    "    #print(city_weather.json()['cod'])\n",
    "    if city_weather.json()['cod']!='404':\n",
    "        clean_city_weather.append(city_weather.json())"
   ]
  },
  {
   "cell_type": "code",
   "execution_count": null,
   "metadata": {},
   "outputs": [],
   "source": []
  },
  {
   "cell_type": "code",
   "execution_count": 6,
   "metadata": {},
   "outputs": [
    {
     "data": {
      "text/plain": [
       "(-9.8, 'Atuona', 100, 76, 18.14, 79.8)"
      ]
     },
     "execution_count": 6,
     "metadata": {},
     "output_type": "execute_result"
    }
   ],
   "source": [
    "#So I have a list of dictionaries. I have dictionaries-within-dictionaries. How to, for examples, go into coord, grab lat to be\n",
    "# my variable lat\n",
    "Lat = []\n",
    "Name = []\n",
    "Humid = []\n",
    "Cloudiness =[]\n",
    "Windspeed = []\n",
    "Temp=[]\n",
    "for clean_city in clean_city_weather:\n",
    "    #print(clean_city['coord'])\n",
    "    clean_city_main=clean_city['main']\n",
    "    #main is where humidity is. Also temp.\n",
    "    clean_city_humid=clean_city_main['humidity']\n",
    "    if clean_city_humid<=100:\n",
    "        Humid.append(clean_city_humid)\n",
    "        clean_city_coord = clean_city['coord']\n",
    "        clean_city_lat = clean_city_coord['lat']\n",
    "        Lat.append(clean_city_lat)\n",
    "        clean_city_name = clean_city['name']\n",
    "        Name.append(clean_city_name)\n",
    "        clean_city_temp=clean_city_main['temp']\n",
    "        Temp.append(clean_city_temp)\n",
    "    #clouds is where all (cloudiness) is\n",
    "        clean_city_clouds=clean_city['clouds']\n",
    "        clean_city_clouds_all=clean_city_clouds['all']\n",
    "        Cloudiness.append(clean_city_clouds_all)\n",
    "    #wind-speed is a speed of wind\n",
    "        clean_city_wind=clean_city['wind']\n",
    "        clean_city_windspeed=clean_city_wind['speed']\n",
    "        Windspeed.append(clean_city_windspeed)\n",
    "\n",
    "len(Lat)\n",
    "Lat[1], Name[1], Humid[1], Cloudiness[1], Windspeed[1], Temp[1]"
   ]
  },
  {
   "cell_type": "code",
   "execution_count": 7,
   "metadata": {},
   "outputs": [],
   "source": [
    "#I now have seperate lists for all variables. I can now plot, maybe?"
   ]
  },
  {
   "cell_type": "code",
   "execution_count": null,
   "metadata": {},
   "outputs": [],
   "source": []
  },
  {
   "cell_type": "code",
   "execution_count": null,
   "metadata": {},
   "outputs": [],
   "source": []
  },
  {
   "cell_type": "code",
   "execution_count": 8,
   "metadata": {},
   "outputs": [
    {
     "data": {
      "text/html": [
       "<div>\n",
       "<style scoped>\n",
       "    .dataframe tbody tr th:only-of-type {\n",
       "        vertical-align: middle;\n",
       "    }\n",
       "\n",
       "    .dataframe tbody tr th {\n",
       "        vertical-align: top;\n",
       "    }\n",
       "\n",
       "    .dataframe thead th {\n",
       "        text-align: right;\n",
       "    }\n",
       "</style>\n",
       "<table border=\"1\" class=\"dataframe\">\n",
       "  <thead>\n",
       "    <tr style=\"text-align: right;\">\n",
       "      <th></th>\n",
       "      <th>0_cloudiness</th>\n",
       "      <th>0_windspeed</th>\n",
       "      <th>0_humidity</th>\n",
       "      <th>0_latitude</th>\n",
       "      <th>0_temp</th>\n",
       "    </tr>\n",
       "    <tr>\n",
       "      <th>0_name</th>\n",
       "      <th></th>\n",
       "      <th></th>\n",
       "      <th></th>\n",
       "      <th></th>\n",
       "      <th></th>\n",
       "    </tr>\n",
       "  </thead>\n",
       "  <tbody>\n",
       "    <tr>\n",
       "      <th>Katsuura</th>\n",
       "      <td>20</td>\n",
       "      <td>5.82</td>\n",
       "      <td>33.93</td>\n",
       "      <td>70</td>\n",
       "      <td>42.80</td>\n",
       "    </tr>\n",
       "    <tr>\n",
       "      <th>Atuona</th>\n",
       "      <td>76</td>\n",
       "      <td>18.14</td>\n",
       "      <td>-9.80</td>\n",
       "      <td>100</td>\n",
       "      <td>79.80</td>\n",
       "    </tr>\n",
       "    <tr>\n",
       "      <th>Mataura</th>\n",
       "      <td>68</td>\n",
       "      <td>4.83</td>\n",
       "      <td>-46.19</td>\n",
       "      <td>93</td>\n",
       "      <td>49.56</td>\n",
       "    </tr>\n",
       "    <tr>\n",
       "      <th>Lagoa</th>\n",
       "      <td>0</td>\n",
       "      <td>10.29</td>\n",
       "      <td>37.14</td>\n",
       "      <td>47</td>\n",
       "      <td>59.00</td>\n",
       "    </tr>\n",
       "    <tr>\n",
       "      <th>Hermanus</th>\n",
       "      <td>0</td>\n",
       "      <td>9.64</td>\n",
       "      <td>-34.42</td>\n",
       "      <td>41</td>\n",
       "      <td>75.44</td>\n",
       "    </tr>\n",
       "  </tbody>\n",
       "</table>\n",
       "</div>"
      ],
      "text/plain": [
       "          0_cloudiness  0_windspeed  0_humidity  0_latitude  0_temp\n",
       "0_name                                                             \n",
       "Katsuura            20         5.82       33.93          70   42.80\n",
       "Atuona              76        18.14       -9.80         100   79.80\n",
       "Mataura             68         4.83      -46.19          93   49.56\n",
       "Lagoa                0        10.29       37.14          47   59.00\n",
       "Hermanus             0         9.64      -34.42          41   75.44"
      ]
     },
     "execution_count": 8,
     "metadata": {},
     "output_type": "execute_result"
    }
   ],
   "source": [
    "#col=[['Clouds'],['Coord'],['Main'],['Name'],['Weather'],['Wind']]\n",
    "cleanweatherdf = pd.DataFrame(clean_city_weather)\n",
    "del cleanweatherdf['base']\n",
    "del cleanweatherdf['cod']\n",
    "del cleanweatherdf['dt']\n",
    "del cleanweatherdf['id']\n",
    "del cleanweatherdf['rain']\n",
    "del cleanweatherdf['snow']\n",
    "del cleanweatherdf['sys']\n",
    "del cleanweatherdf ['visibility']\n",
    "cleanweatherdf.head()\n",
    "#cleanweatherdf.set_index('name').head()\n",
    "#colt = [\"Temp\"]\n",
    "tempdf = pd.DataFrame(Temp)\n",
    "#coln = [\"Name\"]\n",
    "namedf=pd.DataFrame(Name)\n",
    "latdf=pd.DataFrame(Lat)\n",
    "humiddf=pd.DataFrame(Humid)\n",
    "clouddf=pd.DataFrame(Cloudiness)\n",
    "winddf=pd.DataFrame(Windspeed)\n",
    "#joining tempdf and namedf\n",
    "tempnamedf = tempdf.join(namedf,lsuffix='_temp', rsuffix='_name')\n",
    "#joining winddf and clouddf\n",
    "windcloud_df = clouddf.join(winddf, lsuffix='_cloudiness',rsuffix='_windspeed')\n",
    "windcloud_df.head()\n",
    "#joining latdf and humiddf\n",
    "lathumiddf=latdf.join(humiddf,lsuffix='_humidity',rsuffix='_latitude')\n",
    "#joining windcloud_df and lathumid_df\n",
    "bigger_df=windcloud_df.join(lathumiddf)\n",
    "#joining all that with tempnamedf\n",
    "big_df=bigger_df.join(tempnamedf)\n",
    "#writing resulting dataframe to csv\n",
    "weather_csv=big_df.to_csv(path_or_buf=None, sep=',', na_rep='', float_format=None, columns=None, header=True, index=True, index_label=None, mode='w', encoding=None, compression=None, quoting=None, quotechar='\"', line_terminator='\\n', chunksize=None, tupleize_cols=None, date_format=None, doublequote=True, escapechar=None, decimal='.')\n",
    "#printing the first of the giant dataframe just written to csv, with an index of name\n",
    "big_df.set_index('0_name').head()"
   ]
  },
  {
   "cell_type": "code",
   "execution_count": 9,
   "metadata": {
    "scrolled": false
   },
   "outputs": [],
   "source": [
    "# I think I can plot from that."
   ]
  },
  {
   "cell_type": "markdown",
   "metadata": {},
   "source": [
    "### Plotting the Data\n",
    "* Use proper labeling of the plots using plot titles (including date of analysis) and axes labels.\n",
    "* Save the plotted figures as .pngs."
   ]
  },
  {
   "cell_type": "markdown",
   "metadata": {},
   "source": [
    "#### Latitude vs. Temperature Plot"
   ]
  },
  {
   "cell_type": "code",
   "execution_count": 10,
   "metadata": {},
   "outputs": [
    {
     "data": {
      "image/png": "[encoded data removed]",
      "text/plain": [
       "<Figure size 432x288 with 1 Axes>"
      ]
     },
     "metadata": {
      "needs_background": "light"
     },
     "output_type": "display_data"
    }
   ],
   "source": [
    "#so temperature is x and latitude is y I think...\n",
    "x = Temp\n",
    "y = Lat\n",
    "plt.scatter(x, y)\n",
    "plt.title('Latitude by temperature')\n",
    "plt.xlabel('Temperature')\n",
    "plt.ylabel('Latitude')\n",
    "plt.show\n",
    "plt.savefig(\"latbytempscatter.png\")"
   ]
  },
  {
   "cell_type": "markdown",
   "metadata": {},
   "source": [
    "#### Latitude vs. Humidity Plot"
   ]
  },
  {
   "cell_type": "code",
   "execution_count": 11,
   "metadata": {},
   "outputs": [
    {
     "data": {
      "image/png": "[encoded data removed]",
      "text/plain": [
       "<Figure size 432x288 with 1 Axes>"
      ]
     },
     "metadata": {
      "needs_background": "light"
     },
     "output_type": "display_data"
    }
   ],
   "source": [
    "x1=Humid\n",
    "len(x1)\n",
    "len(Lat)\n",
    "plt.scatter(x1,y)\n",
    "plt.title('Latitude by humidity')\n",
    "plt.xlabel('Humidity')\n",
    "plt.ylabel('Latitude')\n",
    "plt.show\n",
    "plt.savefig('latbyhumid.png')"
   ]
  },
  {
   "cell_type": "markdown",
   "metadata": {},
   "source": [
    "#### Latitude vs. Cloudiness Plot"
   ]
  },
  {
   "cell_type": "code",
   "execution_count": 12,
   "metadata": {},
   "outputs": [
    {
     "data": {
      "image/png": "[encoded data removed]",
      "text/plain": [
       "<Figure size 432x288 with 1 Axes>"
      ]
     },
     "metadata": {
      "needs_background": "light"
     },
     "output_type": "display_data"
    }
   ],
   "source": [
    "x2=Cloudiness\n",
    "plt.scatter(x2, y)\n",
    "plt.title('Latitude by cloudiness')\n",
    "plt.xlabel('Cloudiness')\n",
    "plt.ylabel('Latitude')\n",
    "plt.show\n",
    "plt.savefig('latbycloud.png')"
   ]
  },
  {
   "cell_type": "markdown",
   "metadata": {},
   "source": [
    "#### Latitude vs. Wind Speed Plot"
   ]
  },
  {
   "cell_type": "code",
   "execution_count": 13,
   "metadata": {},
   "outputs": [
    {
     "data": {
      "image/png": "[encoded data removed]",
      "text/plain": [
       "<Figure size 432x288 with 1 Axes>"
      ]
     },
     "metadata": {
      "needs_background": "light"
     },
     "output_type": "display_data"
    }
   ],
   "source": [
    "x3=Windspeed\n",
    "plt.scatter(x3,y)\n",
    "plt.title('Latitude vs Wind Speed')\n",
    "plt.xlabel('Windspeed')\n",
    "plt.ylabel('Latitude')\n",
    "plt.show\n",
    "plt.savefig('latvswind.png')"
   ]
  },
  {
   "cell_type": "code",
   "execution_count": null,
   "metadata": {},
   "outputs": [],
   "source": [
    "#I feel like the only useful graph I have here is the first one (latitude vs temperature). Then, logically, I don't much see\n",
    "#that things like wind speed, cloudiness, and humidity should vary much based on latitude. And it turns out, according to these \n",
    "#graphs, perhaps they don't."
   ]
  }
 ],
 "metadata": {
  "anaconda-cloud": {},
  "kernelspec": {
   "display_name": "Python 3",
   "language": "python",
   "name": "python3"
  },
  "language_info": {
   "codemirror_mode": {
    "name": "ipython",
    "version": 3
   },
   "file_extension": ".py",
   "mimetype": "text/x-python",
   "name": "python",
   "nbconvert_exporter": "python",
   "pygments_lexer": "ipython3",
   "version": "3.6.6"
  }
 },
 "nbformat": 4,
 "nbformat_minor": 2
}
